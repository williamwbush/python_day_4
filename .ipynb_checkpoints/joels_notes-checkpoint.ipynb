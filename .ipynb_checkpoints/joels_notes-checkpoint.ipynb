{
 "cells": [
  {
   "cell_type": "markdown",
   "metadata": {},
   "source": [
    "# Object-Oriented-Programming (OOP)"
   ]
  },
  {
   "cell_type": "markdown",
   "metadata": {},
   "source": [
    "## Tasks Today:\n",
    "\n",
    "<b>Bonus Topics</b>\n",
    "<br>\n",
    "    \n",
    "\n",
    "1) <b>Creating a Class (Initializing/Declaring)</b> <br>\n",
    "2) <b>Using a Class (Instantiating)</b> <br>\n",
    " &nbsp;&nbsp;&nbsp;&nbsp; a) Creating One Instance <br>\n",
    " &nbsp;&nbsp;&nbsp;&nbsp; b) Creating Multiple Instances <br>\n",
    " &nbsp;&nbsp;&nbsp;&nbsp; c) In-Class Exercise #1 - Create a Class 'Car' and instantiate three different makes of cars <br>\n",
    "3) <b>The \\__init\\__() Method</b> <br>\n",
    " &nbsp;&nbsp;&nbsp;&nbsp; a) The 'self' Attribute <br>\n",
    "4) <b>Class Attributes</b> <br>\n",
    " &nbsp;&nbsp;&nbsp;&nbsp; a) Initializing Attributes <br>\n",
    " &nbsp;&nbsp;&nbsp;&nbsp; b) Setting an Attribute Outside of the \\__init\\__() Method <br>\n",
    " &nbsp;&nbsp;&nbsp;&nbsp; c) Setting Defaults for Attributes <br>\n",
    " &nbsp;&nbsp;&nbsp;&nbsp; d) Accessing Class Attributes <br>\n",
    " &nbsp;&nbsp;&nbsp;&nbsp; e) Changing Class Attributes <br>\n",
    " &nbsp;&nbsp;&nbsp;&nbsp; f) In-Class Exercise #2 - Add a color and wheels attribute to your 'Car' class <br>\n",
    "5) <b>Class Methods</b> <br>\n",
    " &nbsp;&nbsp;&nbsp;&nbsp; a) Creating <br>\n",
    " &nbsp;&nbsp;&nbsp;&nbsp; b) Calling <br>\n",
    " &nbsp;&nbsp;&nbsp;&nbsp; c) Modifying an Attribute's Value Through a Method <br>\n",
    " &nbsp;&nbsp;&nbsp;&nbsp; d) Incrementing an Attribute's Value Through a Method <br>\n",
    " &nbsp;&nbsp;&nbsp;&nbsp; e) In-Class Exercise #3 - Add a method that prints the cars color and wheel number, then call them <br>\n",
    "6) <b>Inheritance</b> <br>\n",
    " &nbsp;&nbsp;&nbsp;&nbsp; a) Syntax for Inheriting from a Parent Class <br>\n",
    " &nbsp;&nbsp;&nbsp;&nbsp; b) The \\__init\\__() Method for a Child Class (super()) <br>\n",
    " &nbsp;&nbsp;&nbsp;&nbsp; c) Defining Attributes and Methods for the Child Class <br>\n",
    " &nbsp;&nbsp;&nbsp;&nbsp; d) Method Overriding <br>\n",
    " &nbsp;&nbsp;&nbsp;&nbsp; e) In-Class Exercise #4 - Create a class 'Ford' that inherits from 'Car' class and initialize it as a Blue Ford Explorer with 4 wheels using the super() method <br>\n",
    "7) <b>Classes as Attributes</b> <br>\n",
    "8) <b>Exercises</b> <br>\n",
    " &nbsp;&nbsp;&nbsp;&nbsp; a) Exercise #1 - Turn the shopping cart program from yesterday into an object-oriented program <br>"
   ]
  },
  {
   "cell_type": "code",
   "execution_count": 4,
   "metadata": {},
   "outputs": [
    {
     "name": "stdout",
     "output_type": "stream",
     "text": [
      "Here is your cart...\n",
      "bread\n",
      "Thanks for using our shopping cart program!\n"
     ]
    }
   ],
   "source": [
    "# Shopping Cart Example\n",
    "\n",
    "from IPython.display import clear_output\n",
    "\n",
    "# Creating Global List\n",
    "\n",
    "cart = []\n",
    "\n",
    "#Add to Cart function\n",
    "def addItem(item):\n",
    "    clear_output()\n",
    "    cart.append(item)\n",
    "    \n",
    "# Remove from cart function\n",
    "def removeItem(item):\n",
    "    clear_output()\n",
    "    cart.remove(item)\n",
    "    \n",
    "# Show Cart Function\n",
    "def showCart():\n",
    "    clear_output()\n",
    "    print(\"Here is your cart...\")\n",
    "    for value in cart:\n",
    "        print(value)\n",
    "        \n",
    "# Clear Cart Function\n",
    "def clearCart():\n",
    "    clear_output()\n",
    "    print(\"Your Cart is Now Empty\")\n",
    "    cart.clear()\n",
    "    \n",
    "# Creating a function with a loop that continues to ask the user until said user\n",
    "# wants to quit.\n",
    "# Using ALL of the above function inside of the below \"shoppingCart\" Function\n",
    "\n",
    "def shoppingCart():\n",
    "    while True:\n",
    "        response = input(\"What do you want to do? You can: quit/ add/ remove/ show or clear. Type Only one!\")\n",
    "        \n",
    "        if response.lower() == 'quit':\n",
    "            showCart()\n",
    "            print(\"Thanks for using our shopping cart program!\")\n",
    "            break\n",
    "        elif response.lower() == 'add':\n",
    "            item = input(\"What would you like to add?\")\n",
    "            addItem(item)\n",
    "            # clear_output()\n",
    "            # cart.append(item)\n",
    "        elif response.lower() == 'remove':\n",
    "            showCart()\n",
    "            #clear_output()\n",
    "            #print(\"Here is your cart...\")\n",
    "            #for value in cart:\n",
    "                #print(value)\n",
    "            item = input(\"What item do you want to remove?\")\n",
    "            removeItem(item)\n",
    "            #clear_output()\n",
    "            #cart.remove(item)\n",
    "        elif response.lower() == 'show':\n",
    "            showCart()\n",
    "        elif response.lower() == 'clear':\n",
    "            clearCart()\n",
    "            #clear_output()\n",
    "            #print(\"Your Cart is Now Empty\")\n",
    "            #cart.clear()\n",
    "        else:\n",
    "            print(\"Sorry that was not a valid option - Please choose add/remove/show/clear or quit\")\n",
    "shoppingCart()"
   ]
  },
  {
   "cell_type": "code",
   "execution_count": null,
   "metadata": {},
   "outputs": [],
   "source": [
    "# Circumfrance of a cirle\n"
   ]
  },
  {
   "cell_type": "markdown",
   "metadata": {},
   "source": [
    "## Creating a Class (Initializing/Declaring)\n",
    "<p>When creating a class, function, or even a variable you are initializing that object. Initializing and Declaring occur at the same time in Python, whereas in lower level languages you have to declare an object before initializing it. This is the first step in the process of using a class.</p>"
   ]
  },
  {
   "cell_type": "code",
   "execution_count": 5,
   "metadata": {},
   "outputs": [],
   "source": [
    "class Car():\n",
    "    wheels = 4\n",
    "    color = \"blue\""
   ]
  },
  {
   "cell_type": "markdown",
   "metadata": {},
   "source": [
    "## Using a Class (Instantiating)\n",
    "<p>The process of creating a class is called <i>Instantiating</i>. Each time you create a variable of that type of class, it is referred to as an <i>Instance</i> of that class. This is the second step in the process of using a class.</p>"
   ]
  },
  {
   "cell_type": "markdown",
   "metadata": {},
   "source": [
    "##### Creating One Instance"
   ]
  },
  {
   "cell_type": "code",
   "execution_count": 6,
   "metadata": {},
   "outputs": [],
   "source": [
    "ford = Car()"
   ]
  },
  {
   "cell_type": "markdown",
   "metadata": {},
   "source": [
    "##### Creating Multiple Instances"
   ]
  },
  {
   "cell_type": "code",
   "execution_count": 7,
   "metadata": {},
   "outputs": [
    {
     "data": {
      "text/plain": [
       "'blue'"
      ]
     },
     "execution_count": 7,
     "metadata": {},
     "output_type": "execute_result"
    }
   ],
   "source": [
    "chevy = Car()\n",
    "honda = Car()\n",
    "porsche = Car()\n",
    "\n",
    "porsche.color"
   ]
  },
  {
   "cell_type": "markdown",
   "metadata": {},
   "source": [
    "##### In-Class Exercise #1 - Create a Class named 'Car' and Instantiate three different makes of cars (Create 3 different instances of the Car class)"
   ]
  },
  {
   "cell_type": "code",
   "execution_count": 11,
   "metadata": {},
   "outputs": [
    {
     "name": "stdout",
     "output_type": "stream",
     "text": [
      "red\n",
      "4\n"
     ]
    }
   ],
   "source": [
    "# Add doors, a new color, wheels, and a sunRoof\n",
    "class Car():\n",
    "    doors = 4\n",
    "    color = \"red\"\n",
    "    wheels = 4\n",
    "    sunRoof = \"Yes\"\n",
    "    \n",
    "maz = Car()\n",
    "bently = Car()\n",
    "fer = Car()\n",
    "\n",
    "names = list()\n",
    "names = []\n",
    "\n",
    "print(bently.color)\n",
    "print(bently.wheels)"
   ]
  },
  {
   "cell_type": "markdown",
   "metadata": {},
   "source": [
    "## The \\__init\\__() Method <br>\n",
    "<p>This method is used in almost every created class, and called only once upon the creation of the class instance. This method will initialize all variables needed for the object.</p>"
   ]
  },
  {
   "cell_type": "code",
   "execution_count": 16,
   "metadata": {},
   "outputs": [
    {
     "name": "stdout",
     "output_type": "stream",
     "text": [
      "4\n"
     ]
    }
   ],
   "source": [
    "class Car():\n",
    "    engine = \"4.7L\" # constant\n",
    "    \n",
    "    # Create the Constructor AKA the __init__ method\n",
    "    def __init__(Car,wheels):\n",
    "        Car.wheels = wheels\n",
    "        \n",
    "ford = Car(4)\n",
    "print(ford.wheels)"
   ]
  },
  {
   "cell_type": "markdown",
   "metadata": {},
   "source": [
    "##### The 'self' Attribute <br>\n",
    "<p>This attribute is required to keep track of specific instance's attributes. Without the self attribute, the program would not know how to reference or keep track of an instance's attributes.</p>"
   ]
  },
  {
   "cell_type": "code",
   "execution_count": null,
   "metadata": {},
   "outputs": [],
   "source": [
    "# see above"
   ]
  },
  {
   "cell_type": "markdown",
   "metadata": {},
   "source": [
    "## Class Attributes <br>\n",
    "<p>While variables are inside of a class, they are referred to as attributes and not variables. When someone says 'attribute' you know they're speaking about a class. Attributes can be initialized through the init method, or outside of it.</p>"
   ]
  },
  {
   "cell_type": "markdown",
   "metadata": {},
   "source": [
    "##### Initializing Attributes"
   ]
  },
  {
   "cell_type": "code",
   "execution_count": 18,
   "metadata": {},
   "outputs": [
    {
     "name": "stdout",
     "output_type": "stream",
     "text": [
      "<class 'int'>\n"
     ]
    }
   ],
   "source": [
    "# see above\n",
    "\n",
    "class Toy():\n",
    "    kind = \"Car\" # Constant -DOES NOT CHANGE\n",
    "    \n",
    "    def __init__(self,rooftop,horn,wheels):\n",
    "        self.rooftop = rooftop\n",
    "        self.horn = horn\n",
    "        self.wheels = wheels\n",
    "        \n",
    "tanka_truck = Toy(1,1,4) # 1 rooftop, 1 horn, 4 wheels\n",
    "hotwheels_car = Toy(2,3,8)\n",
    "print(type(tanka_truck.wheels))"
   ]
  },
  {
   "cell_type": "markdown",
   "metadata": {},
   "source": [
    "##### Accessing Class Attributes"
   ]
  },
  {
   "cell_type": "code",
   "execution_count": null,
   "metadata": {
    "scrolled": true
   },
   "outputs": [],
   "source": [
    "# See Above"
   ]
  },
  {
   "cell_type": "markdown",
   "metadata": {},
   "source": [
    "##### Setting Defaults for Attributes"
   ]
  },
  {
   "cell_type": "code",
   "execution_count": 19,
   "metadata": {},
   "outputs": [
    {
     "name": "stdout",
     "output_type": "stream",
     "text": [
      "Honda Wheels 4 and Honda Color Blue\n",
      "Jeep Wheels 8 and Jeep Color Blue\n"
     ]
    }
   ],
   "source": [
    "# See Above\n",
    "\n",
    "class Car():\n",
    "    engine = \"4.7L\"\n",
    "    \n",
    "    # Create the constructor with a dynamic attribute AND a Default attribute\n",
    "    def __init__(self,wheels):\n",
    "        self.wheels = wheels\n",
    "        self.color = \"Blue\" # Default Attribute\n",
    "        \n",
    "honda = Car(4)\n",
    "jeep = Car(8)\n",
    "\n",
    "print(f\"Honda Wheels {honda.wheels} and Honda Color {honda.color}\")\n",
    "print(f\"Jeep Wheels {jeep.wheels} and Jeep Color {jeep.color}\")"
   ]
  },
  {
   "cell_type": "markdown",
   "metadata": {},
   "source": [
    "##### Changing Class Attributes <br>\n",
    "<p>Keep in mind there are global class attributes and then there are attributes only available to each class instance which won't effect other classes.</p>"
   ]
  },
  {
   "cell_type": "code",
   "execution_count": 20,
   "metadata": {},
   "outputs": [
    {
     "name": "stdout",
     "output_type": "stream",
     "text": [
      "White\n"
     ]
    }
   ],
   "source": [
    "jeep.color = \"White\"\n",
    "print(jeep.color)"
   ]
  },
  {
   "cell_type": "markdown",
   "metadata": {},
   "source": [
    "##### In-Class Exercise #2 - Add a doors and seats attribute to your 'Car' class then print out two different instances with different values for doors and seats respectively"
   ]
  },
  {
   "cell_type": "code",
   "execution_count": 26,
   "metadata": {},
   "outputs": [
    {
     "name": "stdout",
     "output_type": "stream",
     "text": [
      "Jeep seats: 4 and Jeep doors: 4 \n",
      "Honda seats: 2 and Honda doors: 2\n"
     ]
    }
   ],
   "source": [
    "class Car():\n",
    "    speed = \"30MPH\"\n",
    "    \n",
    "    def __init__(self,doors,seats):\n",
    "        self.doors = doors\n",
    "        self.seats = seats\n",
    "        \n",
    "honda = Car(2,2)\n",
    "jeep = Car(4,4)\n",
    "\n",
    "print(f\"Jeep seats: {jeep.seats} and Jeep doors: {jeep.doors} \")\n",
    "print(f\"Honda seats: {honda.seats} and Honda doors: {honda.doors}\")"
   ]
  },
  {
   "cell_type": "markdown",
   "metadata": {},
   "source": [
    "## Class Methods <br>\n",
    "<p>While inside of a class, functions are referred to as 'methods'. If you hear someone mention methods, they're speaking about classes. Methods are essentially functions, but only callable on the instances of a class.</p>"
   ]
  },
  {
   "cell_type": "markdown",
   "metadata": {},
   "source": [
    "##### Creating"
   ]
  },
  {
   "cell_type": "code",
   "execution_count": null,
   "metadata": {},
   "outputs": [
    {
     "name": "stdout",
     "output_type": "stream",
     "text": [
      "What do you want to do add/remove/show/clear or quitadd\n",
      "What would you like to add?shoes\n",
      "What do you want to do add/remove/show/clear or quitquit\n",
      "You Have items in your bag!!\n",
      "shoes\n",
      "Thanks for shopping\n"
     ]
    }
   ],
   "source": [
    "class ShoppingBag():\n",
    "    \"\"\"\n",
    "        The ShoppingBag class will have handles, a capacity, and items to place inside\n",
    "        - handles will be expected to be an integer\n",
    "        - capacity can be a string OR an integer\n",
    "        - items will be a list\n",
    "    \"\"\"\n",
    "    def __init__(self,handles,capacity,items):\n",
    "        self.handles = handles\n",
    "        self.capacity = capacity\n",
    "        self.items = items\n",
    "    # Create Method that shows the shoppingBag items\n",
    "    def showShoppingBag(self):\n",
    "        print(\"You Have items in your bag!!\")\n",
    "        for item in self.items:\n",
    "            print(item)\n",
    "            \n",
    "    # show capacity of ShoppingBag\n",
    "    def showCapacity(self):\n",
    "        print(f\"Your Capacity is {self.capacity}\")\n",
    "        \n",
    "    # add to items list with addToShoppingBag method\n",
    "    def addToShoppingBag(self):\n",
    "        products = input(\"What would you like to add?\")\n",
    "        self.items.append(products)\n",
    "        \n",
    "    # Changing the capacity of the ShoppingBag dynamically\n",
    "    def changeBagCapacity(self,capacity):\n",
    "        self.capacity = capacity\n",
    "        \n",
    "    # Increase the capacity of the ShoppingBag by 10\n",
    "    def increaseCapacity(self):\n",
    "        if self.capacity == isinstance(self.capacity,str):\n",
    "            print(\"We can't do that here boss...\")\n",
    "        else:\n",
    "            self.capacity += 10\n",
    "            \n",
    "wholeFoods_bag = ShoppingBag(2,10,[])\n",
    "\n",
    "# Create function to run the ShoppingBag(wholeFoods_bag) methods\n",
    "\n",
    "def run():\n",
    "    while True:\n",
    "        response = input(\"What do you want to do add/remove/show/clear or quit\")\n",
    "        \n",
    "        if response.lower() == 'quit':\n",
    "            wholeFoods_bag.showShoppingBag()\n",
    "            print(\"Thanks for shopping\")\n",
    "            break\n",
    "        if response.lower() == 'add':\n",
    "            wholeFoods_bag.addToShoppingBag()\n",
    "#     wholeFoods_bag.addToShoppingBag()\n",
    "#     wholeFoods_bag.showShoppingBag()\n",
    "    \n",
    "run()"
   ]
  },
  {
   "cell_type": "markdown",
   "metadata": {},
   "source": [
    "##### Calling"
   ]
  },
  {
   "cell_type": "code",
   "execution_count": null,
   "metadata": {},
   "outputs": [],
   "source": [
    "# See Above\n",
    "wholeFoods_bag.addToShoppingBag()\n",
    "wholeFoods_bag.showShoppingBag()"
   ]
  },
  {
   "cell_type": "markdown",
   "metadata": {},
   "source": [
    "##### Modifying an Attribute's Value Through a Method"
   ]
  },
  {
   "cell_type": "code",
   "execution_count": 28,
   "metadata": {},
   "outputs": [
    {
     "name": "stdout",
     "output_type": "stream",
     "text": [
      "Your Capacity is 10\n",
      "Capacity AFTER the change....\n",
      "Your Capacity is 40\n"
     ]
    }
   ],
   "source": [
    "# See changeBagCapacity method from above example for ShoppingBag\n",
    "wholeFoods_bag.showCapacity()\n",
    "print(\"Capacity AFTER the change....\")\n",
    "wholeFoods_bag.changeBagCapacity(40)\n",
    "wholeFoods_bag.showCapacity()"
   ]
  },
  {
   "cell_type": "markdown",
   "metadata": {},
   "source": [
    "##### Incrementing an Attribute's Value Through a Method"
   ]
  },
  {
   "cell_type": "code",
   "execution_count": 29,
   "metadata": {},
   "outputs": [
    {
     "name": "stdout",
     "output_type": "stream",
     "text": [
      "Your Capacity is 40\n",
      "Your Capacity is 60\n"
     ]
    }
   ],
   "source": [
    "# See increaseCapacity method from above example for ShoppingBag\n",
    "wholeFoods_bag.showCapacity()\n",
    "wholeFoods_bag.increaseCapacity()\n",
    "wholeFoods_bag.increaseCapacity()\n",
    "wholeFoods_bag.showCapacity()\n"
   ]
  },
  {
   "cell_type": "markdown",
   "metadata": {},
   "source": [
    "##### In-Class Exercise #3 - Add a method that takes in three parameters of year, doors and seats and prints out a formatted print statement with make, model, year, seats, and doors"
   ]
  },
  {
   "cell_type": "code",
   "execution_count": 36,
   "metadata": {},
   "outputs": [
    {
     "name": "stdout",
     "output_type": "stream",
     "text": [
      "This car is a 2015 Ford Focus with 5 doors and 4 seats.\n",
      "This car is a 2015 Ford Focus with 4 doors and 4 seats.\n"
     ]
    }
   ],
   "source": [
    "# This car is from 2019 and is a Ford Expolorer and has 4 doors and 5 seats\n",
    "class Car():\n",
    "    def __init__(self,make,model):\n",
    "        self.make = make\n",
    "        self.model = model\n",
    "        \n",
    "    def addDetails(self,year,doors,seats):\n",
    "        self.year = year\n",
    "        self.doors = doors\n",
    "        self.seats = seats\n",
    "        print(f\"This car is a {self.year} {self.make} {self.model} with {self.doors} doors and {self.seats} seats.\")\n",
    "        \n",
    "my_car = Car('Ford','Focus')\n",
    "my_car.addDetails(2015,5,4)\n",
    "\n",
    "\n",
    "# Second Example\n",
    "# Second Example\n",
    "class Car():\n",
    "    def __init__(self,make,model):\n",
    "        self.make = make\n",
    "        self.model = model\n",
    "        \n",
    "    def addDetails(self,year,doors,seats):\n",
    "        print(f\"This car is a {year} {self.make} {self.model} with {doors} doors and {seats} seats.\")\n",
    "        \n",
    "my_car2 = Car('Ford','Focus')\n",
    "my_car2.addDetails(2015,5,4)\n",
    "\n",
    "# Third Example\n",
    "class Car():\n",
    "    \n",
    "    year = 2015\n",
    "    doors = 4\n",
    "    seats = 4\n",
    "    def __init__(self,make,model):\n",
    "        self.make = make\n",
    "        self.model = model\n",
    "        \n",
    "    def addDetails(self):\n",
    "        print(f\"This car is a {self.year} {self.make} {self.model} with {self.doors} doors and {self.seats} seats.\")\n",
    "        \n",
    "my_car2 = Car('Ford','Focus')\n",
    "my_car2.addDetails()"
   ]
  },
  {
   "cell_type": "markdown",
   "metadata": {},
   "source": [
    "## Inheritance <br>\n",
    "<p>You can create a child-parent relationship between two classes by using inheritance. What this allows you to do is have overriding methods, but also inherit traits from the parent class. Think of it as an actual parent and child, the child will inherit the parent's genes, as will the classes in OOP</p>"
   ]
  },
  {
   "cell_type": "markdown",
   "metadata": {},
   "source": [
    "##### Syntax for Inheriting from a Parent Class"
   ]
  },
  {
   "cell_type": "code",
   "execution_count": 47,
   "metadata": {},
   "outputs": [
    {
     "name": "stdout",
     "output_type": "stream",
     "text": [
      "Buster\n",
      "Bark\n",
      "None\n",
      "The Dog has 15mph in speed and 9.8 in acceleration\n",
      "Lassie\n",
      "Help on class Mut in module __main__:\n",
      "\n",
      "class Mut(Dog)\n",
      " |  Mut(name, species, color, legs=4)\n",
      " |  \n",
      " |  Method resolution order:\n",
      " |      Mut\n",
      " |      Dog\n",
      " |      Animal\n",
      " |      builtins.object\n",
      " |  \n",
      " |  Methods defined here:\n",
      " |  \n",
      " |  __init__(self, name, species, color, legs=4)\n",
      " |      Initialize self.  See help(type(self)) for accurate signature.\n",
      " |  \n",
      " |  makeSound(self)\n",
      " |  \n",
      " |  ----------------------------------------------------------------------\n",
      " |  Data and other attributes defined here:\n",
      " |  \n",
      " |  color = 'black & brown'\n",
      " |  \n",
      " |  ----------------------------------------------------------------------\n",
      " |  Methods inherited from Dog:\n",
      " |  \n",
      " |  printInfo(self)\n",
      " |  \n",
      " |  ----------------------------------------------------------------------\n",
      " |  Data and other attributes inherited from Dog:\n",
      " |  \n",
      " |  speed = 15\n",
      " |  \n",
      " |  ----------------------------------------------------------------------\n",
      " |  Data descriptors inherited from Animal:\n",
      " |  \n",
      " |  __dict__\n",
      " |      dictionary for instance variables (if defined)\n",
      " |  \n",
      " |  __weakref__\n",
      " |      list of weak references to the object (if defined)\n",
      " |  \n",
      " |  ----------------------------------------------------------------------\n",
      " |  Data and other attributes inherited from Animal:\n",
      " |  \n",
      " |  acceleration = 9.8\n",
      "\n"
     ]
    }
   ],
   "source": [
    "# Creation of Parent Class\n",
    "class Animal():\n",
    "    acceleration = 9.8\n",
    "    \n",
    "    def __init__(self,name,species,legs=4):\n",
    "        self.name = name\n",
    "        self.species = species\n",
    "        self.legs = legs\n",
    "        \n",
    "    def makeSound(self):\n",
    "        print(\"Some Generic Sound\")\n",
    "        \n",
    "# Creation of Child Class\n",
    "class Dog(Animal):\n",
    "    speed = 15\n",
    "    \n",
    "    def printInfo(self):\n",
    "        print(f\"The Dog has {self.speed}mph in speed and {self.acceleration} in acceleration\")\n",
    "\n",
    "        \n",
    "        \n",
    "class Mut(Dog):\n",
    "    color = 'black & brown'\n",
    "    \n",
    "    # Constructor Overide inside of child inheritance\n",
    "    def __init__(self,name,species,color,legs=4):\n",
    "        Dog.__init__(self,name,species,legs)\n",
    "        self.color = color\n",
    "    \n",
    "    def makeSound(self):\n",
    "        print(\"Bark\")\n",
    "        \n",
    "lassie = Dog(\"Lassie\",\"Dog\")\n",
    "buster = Mut(\"Buster\",\"Mut\",\"black\")\n",
    "print(buster.name)\n",
    "print(buster.makeSound())\n",
    "lassie.printInfo()\n",
    "print(lassie.name)\n",
    "\n",
    "help(Mut)"
   ]
  },
  {
   "cell_type": "markdown",
   "metadata": {},
   "source": [
    "##### The \\__init\\__() Method for a Child Class - super()"
   ]
  },
  {
   "cell_type": "code",
   "execution_count": 49,
   "metadata": {
    "scrolled": true
   },
   "outputs": [
    {
     "name": "stdout",
     "output_type": "stream",
     "text": [
      "Buster\n",
      "Bark\n",
      "None\n",
      "The Dog has 15mph in speed and 9.8 in acceleration\n",
      "Lassie\n"
     ]
    }
   ],
   "source": [
    "# Creation of Parent Class\n",
    "class Animal():\n",
    "    acceleration = 9.8\n",
    "    \n",
    "    def __init__(self,name,species,legs=4):\n",
    "        self.name = name\n",
    "        self.species = species\n",
    "        self.legs = legs\n",
    "        \n",
    "    def makeSound(self):\n",
    "        print(\"Some Generic Sound\")\n",
    "        \n",
    "# Creation of Child Class\n",
    "class Dog(Animal):\n",
    "    speed = 15\n",
    "    \n",
    "    def printInfo(self):\n",
    "        print(f\"The Dog has {self.speed}mph in speed and {self.acceleration} in acceleration\")\n",
    "\n",
    "        \n",
    "#class ChildClass(GrandParentClass, ParentClass)\n",
    "class Mut(Dog):\n",
    "    color = 'black & brown'\n",
    "    \n",
    "    # Constructor Overide inside of child inheritance\n",
    "    def __init__(self,name,species,color,legs=4):\n",
    "        super().__init__(name,species,legs)\n",
    "        self.color = color\n",
    "    \n",
    "    def makeSound(self):\n",
    "        print(\"Bark\")\n",
    "        \n",
    "lassie = Dog(\"Lassie\",\"Dog\")\n",
    "buster = Mut(\"Buster\",\"Mut\",\"black\")\n",
    "print(buster.name)\n",
    "print(buster.makeSound())\n",
    "lassie.printInfo()\n",
    "print(lassie.name)\n",
    "\n"
   ]
  },
  {
   "cell_type": "markdown",
   "metadata": {},
   "source": [
    "##### Defining Attributes and Methods for the Child Class"
   ]
  },
  {
   "cell_type": "code",
   "execution_count": null,
   "metadata": {},
   "outputs": [],
   "source": [
    "# See Above"
   ]
  },
  {
   "cell_type": "markdown",
   "metadata": {},
   "source": [
    "##### Method Overriding"
   ]
  },
  {
   "cell_type": "code",
   "execution_count": null,
   "metadata": {},
   "outputs": [],
   "source": [
    "# See Above"
   ]
  },
  {
   "cell_type": "markdown",
   "metadata": {},
   "source": [
    "## Classes as Attributes <br>\n",
    "<p>Classes can also be used as attributes within another class. This is useful in situations where you need to keep variables locally stored, instead of globally stored.</p>"
   ]
  },
  {
   "cell_type": "code",
   "execution_count": 50,
   "metadata": {},
   "outputs": [
    {
     "name": "stdout",
     "output_type": "stream",
     "text": [
      "20\n"
     ]
    }
   ],
   "source": [
    "class Battery():\n",
    "    volts = 7.8\n",
    "    \n",
    "    def __init__(self,cells):\n",
    "        self.cells = cells\n",
    "        \n",
    "class Car():\n",
    "    def __init__(self,year,make,model,battery):\n",
    "        self.year = year\n",
    "        self.make = make\n",
    "        self.model = model\n",
    "        self.battery = battery\n",
    "        \n",
    "    def printInfo(self):\n",
    "        print(self.year, self.make,self.model,self.battery)\n",
    "        \n",
    "battery = Battery(20)\n",
    "\n",
    "tesla = Car(2019,\"Tesla\", \"Model X\", battery)\n",
    "\n",
    "print(tesla.battery.cells)"
   ]
  },
  {
   "cell_type": "markdown",
   "metadata": {},
   "source": [
    "# Exercises"
   ]
  },
  {
   "cell_type": "markdown",
   "metadata": {},
   "source": [
    "### Exercise 1 - Turn the shopping cart program from yesterday into an object-oriented program\n",
    "\n",
    "The comments in the cell below are there as a guide for thinking about the problem. However, if you feel a different way is best for you and your own thought process, please do what feels best for you by all means."
   ]
  },
  {
   "cell_type": "code",
   "execution_count": null,
   "metadata": {},
   "outputs": [],
   "source": [
    "# Create a class called cart that retains items and has methods to add, remove, and show\n",
    "\n",
    "class Cart():\n",
    "    pass\n",
    "    "
   ]
  },
  {
   "cell_type": "markdown",
   "metadata": {},
   "source": [
    "### Exercise 2 - Write a Python class which has two methods get_String and print_String. get_String accept a string from the user and print_String print the string in upper case"
   ]
  },
  {
   "cell_type": "code",
   "execution_count": null,
   "metadata": {},
   "outputs": [],
   "source": []
  }
 ],
 "metadata": {
  "kernelspec": {
   "display_name": "Python 3",
   "language": "python",
   "name": "python3"
  },
  "language_info": {
   "codemirror_mode": {
    "name": "ipython",
    "version": 3
   },
   "file_extension": ".py",
   "mimetype": "text/x-python",
   "name": "python",
   "nbconvert_exporter": "python",
   "pygments_lexer": "ipython3",
   "version": "3.8.5"
  }
 },
 "nbformat": 4,
 "nbformat_minor": 2
}
